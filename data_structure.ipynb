{
 "cells": [
  {
   "cell_type": "code",
   "execution_count": 1,
   "id": "3aa7c6f2-610c-4912-813c-d19dfceb8be9",
   "metadata": {},
   "outputs": [],
   "source": [
    "#1- Discuss string slicing and provide examples?\n",
    "\n",
    "\n",
    "#Python slicing is about obtaining a sub-string from the given string by slicing it respectively from start to end.\n",
    "#How String slicing in Python works:-\n",
    "#2 methods of string slicing, one using the in-build slice() method and another using the [:] array slice.\n",
    "#String slicing in Python is about obtaining a sub-string from the given string by slicing it respectively from start to end.\n",
    "\n",
    "#Using the List/array slicing  [ :: ]  method:- this method commenly using in the python programming \n",
    "#extract syntax=[start:end:step]"
   ]
  },
  {
   "cell_type": "code",
   "execution_count": 2,
   "id": "437873a3-a6d9-48ee-8ae4-a4531f0dce56",
   "metadata": {},
   "outputs": [
    {
     "data": {
      "text/plain": [
       "'my nam'"
      ]
     },
     "execution_count": 2,
     "metadata": {},
     "output_type": "execute_result"
    }
   ],
   "source": [
    "string1= \"my name is muuhammed fijas\"\n",
    "string1[0:6]"
   ]
  },
  {
   "cell_type": "code",
   "execution_count": 3,
   "id": "984f9ccd-e9f2-430c-bf0b-0d8c20ca6c05",
   "metadata": {},
   "outputs": [
    {
     "data": {
      "text/plain": [
       "'m s'"
      ]
     },
     "execution_count": 3,
     "metadata": {},
     "output_type": "execute_result"
    }
   ],
   "source": [
    "string1[5:10:2]"
   ]
  },
  {
   "cell_type": "code",
   "execution_count": 4,
   "id": "c3973605-2029-46e9-b26f-b6963528cd31",
   "metadata": {},
   "outputs": [
    {
     "data": {
      "text/plain": [
       "'sajif demmahuum si eman ym'"
      ]
     },
     "execution_count": 4,
     "metadata": {},
     "output_type": "execute_result"
    }
   ],
   "source": [
    "string1[::-1]"
   ]
  },
  {
   "cell_type": "code",
   "execution_count": null,
   "id": "60037459-96f8-4be9-a8bc-a3d6c7c4d88b",
   "metadata": {},
   "outputs": [],
   "source": []
  },
  {
   "cell_type": "code",
   "execution_count": null,
   "id": "f91991b1-91e4-4d41-8638-956a71067cd6",
   "metadata": {},
   "outputs": [],
   "source": []
  },
  {
   "cell_type": "code",
   "execution_count": 5,
   "id": "7c58b5a7-6637-4c7a-920f-ab3921dfae53",
   "metadata": {},
   "outputs": [],
   "source": [
    "#2- Explain the key features of lists in Python?\n",
    "\n",
    "\n",
    "\n",
    "#In Python, the sequence of various data types is stored in a list. A list is a collection of different kinds of values or items.\n",
    "#Since Python lists are mutable, we can change their elements after forming. The comma (,) and the square brackets [enclose the List's items] serve as separators\n",
    "#eg:-[1,2,\"fijas\",\"pwskill\"]\n",
    "#main features of the list in pythom\n",
    "##1The lists are in order.\n",
    "##2The list element can be accessed via the index.\n",
    "##3The mutable type of List is\n",
    "##4The rundowns are changeable sorts.\n",
    "##%The number of various elements can be stored in a list."
   ]
  },
  {
   "cell_type": "code",
   "execution_count": null,
   "id": "3d059aa8-ead1-4c86-88ef-93ff3c600d40",
   "metadata": {},
   "outputs": [],
   "source": []
  },
  {
   "cell_type": "code",
   "execution_count": 6,
   "id": "59775fb5-e63f-4332-808c-961752cf9e6b",
   "metadata": {},
   "outputs": [
    {
     "data": {
      "text/plain": [
       "[1, 22, 3.4, '(2+4k)', 'fijas']"
      ]
     },
     "execution_count": 6,
     "metadata": {},
     "output_type": "execute_result"
    }
   ],
   "source": [
    "s=[1,22,3.4,\"(2+4k)\",\"fijas\"]\n",
    "s"
   ]
  },
  {
   "cell_type": "code",
   "execution_count": 7,
   "id": "a46cf6e8-7259-4e3e-9e46-4d523916a0ad",
   "metadata": {},
   "outputs": [
    {
     "data": {
      "text/plain": [
       "[50, 50, 50, 50, 50, 50, 50, 50, 50, 50]"
      ]
     },
     "execution_count": 7,
     "metadata": {},
     "output_type": "execute_result"
    }
   ],
   "source": [
    "[50]*10"
   ]
  },
  {
   "cell_type": "code",
   "execution_count": 8,
   "id": "7aec2c48-bab0-49e8-8572-a10f731b72d9",
   "metadata": {},
   "outputs": [],
   "source": [
    "my_list=[\"app\",\"bann\",\"orange\"]\n",
    "brother_list=[\"book\",\"potato\"]\n",
    "my_list.extend (brother_list)"
   ]
  },
  {
   "cell_type": "code",
   "execution_count": 9,
   "id": "94baf331-1ddc-4a28-b7f1-13fb83a36ca0",
   "metadata": {},
   "outputs": [
    {
     "data": {
      "text/plain": [
       "['app', 'bann', 'orange', 'book', 'potato']"
      ]
     },
     "execution_count": 9,
     "metadata": {},
     "output_type": "execute_result"
    }
   ],
   "source": [
    "my_list"
   ]
  },
  {
   "cell_type": "code",
   "execution_count": 10,
   "id": "1c838a49-56ea-4d5f-a4a3-6b8850be8aad",
   "metadata": {},
   "outputs": [
    {
     "data": {
      "text/plain": [
       "[0, 1, 2, 3, 4, 5, 6, 7, 8, 9, 0, 1, 2, 3, 4, 5, 6, 7, 8, 9]"
      ]
     },
     "execution_count": 10,
     "metadata": {},
     "output_type": "execute_result"
    }
   ],
   "source": [
    "list(range(10))*2"
   ]
  },
  {
   "cell_type": "code",
   "execution_count": 11,
   "id": "c0976e63-74d4-43e7-9b4e-78f88e2c7008",
   "metadata": {},
   "outputs": [],
   "source": [
    "#3- Describe how to access, modify, and delete elements on a list with examples?"
   ]
  },
  {
   "cell_type": "code",
   "execution_count": 12,
   "id": "1e408d79-0bd3-4488-8fb6-f42e053a00f7",
   "metadata": {},
   "outputs": [],
   "source": [
    "#deep copy and shallow copy\n",
    "#>>shallow copy\n",
    "a=my_list"
   ]
  },
  {
   "cell_type": "code",
   "execution_count": 13,
   "id": "1f47bdad-2159-40e5-a211-047ef7c34f59",
   "metadata": {},
   "outputs": [
    {
     "data": {
      "text/plain": [
       "['app', 'bann', 'orange', 'book', 'potato']"
      ]
     },
     "execution_count": 13,
     "metadata": {},
     "output_type": "execute_result"
    }
   ],
   "source": [
    "a"
   ]
  },
  {
   "cell_type": "code",
   "execution_count": 14,
   "id": "d42b9a86-4ba0-42d6-bf83-060a471aabf1",
   "metadata": {},
   "outputs": [
    {
     "data": {
      "text/plain": [
       "'potato'"
      ]
     },
     "execution_count": 14,
     "metadata": {},
     "output_type": "execute_result"
    }
   ],
   "source": [
    "a[4]"
   ]
  },
  {
   "cell_type": "code",
   "execution_count": 15,
   "id": "7154508c-4dfc-469a-b7f3-fae78fe2c721",
   "metadata": {},
   "outputs": [],
   "source": [
    "a[4]=\"elephant\""
   ]
  },
  {
   "cell_type": "code",
   "execution_count": 16,
   "id": "70e9244a-583c-44cd-ac22-260fe04a44fc",
   "metadata": {},
   "outputs": [
    {
     "data": {
      "text/plain": [
       "['app', 'bann', 'orange', 'book', 'elephant']"
      ]
     },
     "execution_count": 16,
     "metadata": {},
     "output_type": "execute_result"
    }
   ],
   "source": [
    "a"
   ]
  },
  {
   "cell_type": "code",
   "execution_count": 17,
   "id": "a2ec0a5d-2ad2-49d3-87ed-267300f6d18f",
   "metadata": {},
   "outputs": [],
   "source": [
    "#>>deep copy\n",
    "my_list=[\"app\",\"bann\",\"orange\",33,55,1,1.2]"
   ]
  },
  {
   "cell_type": "code",
   "execution_count": 18,
   "id": "3e1109f7-4f95-4918-ae57-d00c25646f55",
   "metadata": {},
   "outputs": [],
   "source": [
    "p=my_list.copy()"
   ]
  },
  {
   "cell_type": "code",
   "execution_count": 19,
   "id": "b4272895-33ff-423b-80a5-e8e662821063",
   "metadata": {},
   "outputs": [
    {
     "data": {
      "text/plain": [
       "['app', 'bann', 'orange', 33, 55, 1, 1.2]"
      ]
     },
     "execution_count": 19,
     "metadata": {},
     "output_type": "execute_result"
    }
   ],
   "source": [
    "p"
   ]
  },
  {
   "cell_type": "code",
   "execution_count": 20,
   "id": "7f827ff5-79e3-4e04-bbc3-787b5e5a3f5a",
   "metadata": {},
   "outputs": [],
   "source": [
    "#sorting list\n",
    "my_list=[\"app\",\"bann\",\"orange\",\"cat\",\"car\"]"
   ]
  },
  {
   "cell_type": "code",
   "execution_count": 21,
   "id": "b32c418f-ecff-4e30-aba0-a24ee52bbb5d",
   "metadata": {},
   "outputs": [],
   "source": [
    "my_list.sort()"
   ]
  },
  {
   "cell_type": "code",
   "execution_count": 22,
   "id": "25773f4d-a189-4c67-965e-e9011bbfa57b",
   "metadata": {},
   "outputs": [
    {
     "data": {
      "text/plain": [
       "['app', 'bann', 'car', 'cat', 'orange']"
      ]
     },
     "execution_count": 22,
     "metadata": {},
     "output_type": "execute_result"
    }
   ],
   "source": [
    "my_list"
   ]
  },
  {
   "cell_type": "code",
   "execution_count": 23,
   "id": "9bef7387-afe3-4607-b2d9-f0125b28eb49",
   "metadata": {},
   "outputs": [
    {
     "data": {
      "text/plain": [
       "2"
      ]
     },
     "execution_count": 23,
     "metadata": {},
     "output_type": "execute_result"
    }
   ],
   "source": [
    "#index\\\n",
    "my_list.index(\"car\")"
   ]
  },
  {
   "cell_type": "code",
   "execution_count": 24,
   "id": "cc0e4bbc-f345-46f3-acfb-f656982b1d3b",
   "metadata": {},
   "outputs": [
    {
     "data": {
      "text/plain": [
       "5"
      ]
     },
     "execution_count": 24,
     "metadata": {},
     "output_type": "execute_result"
    }
   ],
   "source": [
    "len(my_list)"
   ]
  },
  {
   "cell_type": "code",
   "execution_count": 25,
   "id": "306d54f1-0ce4-46c8-a7de-33a10dd2783a",
   "metadata": {},
   "outputs": [
    {
     "data": {
      "text/plain": [
       "0"
      ]
     },
     "execution_count": 25,
     "metadata": {},
     "output_type": "execute_result"
    }
   ],
   "source": [
    "my_list.count(\"ban\")"
   ]
  },
  {
   "cell_type": "code",
   "execution_count": 26,
   "id": "7e13297e-ab1e-408c-9546-a5b5d2f4490a",
   "metadata": {},
   "outputs": [],
   "source": [
    "#remove\n",
    "my_list.remove(\"car\")"
   ]
  },
  {
   "cell_type": "code",
   "execution_count": 27,
   "id": "89a7cf57-aadb-444d-9ff0-e02ab89bd2e3",
   "metadata": {},
   "outputs": [
    {
     "data": {
      "text/plain": [
       "['app', 'bann', 'cat', 'orange']"
      ]
     },
     "execution_count": 27,
     "metadata": {},
     "output_type": "execute_result"
    }
   ],
   "source": [
    "my_list"
   ]
  },
  {
   "cell_type": "code",
   "execution_count": 28,
   "id": "37988570-a89b-41d1-9c8e-2e4005c9dfe1",
   "metadata": {},
   "outputs": [],
   "source": [
    "my_list.clear()"
   ]
  },
  {
   "cell_type": "code",
   "execution_count": 29,
   "id": "470fb3db-2d34-4827-b374-2434f1722a1e",
   "metadata": {},
   "outputs": [
    {
     "data": {
      "text/plain": [
       "[]"
      ]
     },
     "execution_count": 29,
     "metadata": {},
     "output_type": "execute_result"
    }
   ],
   "source": [
    "my_list"
   ]
  },
  {
   "cell_type": "code",
   "execution_count": 30,
   "id": "fa5beeba-02a6-4ae9-b881-f95b6c902c1c",
   "metadata": {},
   "outputs": [],
   "source": [
    "#list compherehension >> readable ,concise code\n",
    "price=[10,11,12,13,14,]"
   ]
  },
  {
   "cell_type": "code",
   "execution_count": 31,
   "id": "40c9a7ef-1968-40ab-96ed-60ece67bf5ae",
   "metadata": {},
   "outputs": [],
   "source": [
    "power_of_price=[]\n",
    "for i in price :\n",
    "    power_of_price.append(i**2)"
   ]
  },
  {
   "cell_type": "code",
   "execution_count": 32,
   "id": "e5fde901-952d-439e-8b29-4670d1a4b040",
   "metadata": {},
   "outputs": [
    {
     "data": {
      "text/plain": [
       "[100, 121, 144, 169, 196]"
      ]
     },
     "execution_count": 32,
     "metadata": {},
     "output_type": "execute_result"
    }
   ],
   "source": [
    "power_of_price"
   ]
  },
  {
   "cell_type": "code",
   "execution_count": 33,
   "id": "e6181dc5-f219-4b1d-9876-13804093027c",
   "metadata": {},
   "outputs": [
    {
     "data": {
      "text/plain": [
       "[100, 121, 144, 169, 196]"
      ]
     },
     "execution_count": 33,
     "metadata": {},
     "output_type": "execute_result"
    }
   ],
   "source": [
    "#0r\n",
    "[price**2 for price in price]"
   ]
  },
  {
   "cell_type": "code",
   "execution_count": 34,
   "id": "11a431fb-62ce-4f14-88c3-4c96e78a1c01",
   "metadata": {},
   "outputs": [],
   "source": [
    "#conditinal list comprehension\n",
    "email_address=[\"fijas@gmail.com\",\"fijas@yahoo.com\",\"fijad@yahoo.com\",\"mhdfijas@yahoo.com\"]"
   ]
  },
  {
   "cell_type": "code",
   "execution_count": 35,
   "id": "388099d9-91f9-483d-b271-7445647f472b",
   "metadata": {},
   "outputs": [
    {
     "data": {
      "text/plain": [
       "['fijas@yahoo.com', 'fijad@yahoo.com', 'mhdfijas@yahoo.com']"
      ]
     },
     "execution_count": 35,
     "metadata": {},
     "output_type": "execute_result"
    }
   ],
   "source": [
    "[email for email in email_address if email.endswith(\"@yahoo.com\")]"
   ]
  },
  {
   "cell_type": "code",
   "execution_count": 36,
   "id": "a63b2f74-b901-4167-be4b-34230c3919d7",
   "metadata": {},
   "outputs": [
    {
     "data": {
      "text/plain": [
       "'mhdfijas@yahoo.com'"
      ]
     },
     "execution_count": 36,
     "metadata": {},
     "output_type": "execute_result"
    }
   ],
   "source": [
    "email_address.pop()"
   ]
  },
  {
   "cell_type": "code",
   "execution_count": 37,
   "id": "2622e5ba-5444-40a3-b08d-ba0eacb1918f",
   "metadata": {},
   "outputs": [
    {
     "data": {
      "text/plain": [
       "['fijas@gmail.com', 'fijas@yahoo.com', 'fijad@yahoo.com']"
      ]
     },
     "execution_count": 37,
     "metadata": {},
     "output_type": "execute_result"
    }
   ],
   "source": [
    "email_address"
   ]
  },
  {
   "cell_type": "code",
   "execution_count": null,
   "id": "63769514-e284-4293-ad52-5a5fc0ba3777",
   "metadata": {},
   "outputs": [],
   "source": []
  },
  {
   "cell_type": "code",
   "execution_count": null,
   "id": "2ba7566e-3f40-47d5-8146-60a276a55f17",
   "metadata": {},
   "outputs": [],
   "source": []
  },
  {
   "cell_type": "code",
   "execution_count": 41,
   "id": "34888acb-7098-4696-8d19-a9ef2840da23",
   "metadata": {},
   "outputs": [],
   "source": [
    "#4- Compare and contrast tuples and lists with examples?\n",
    "\n",
    "\n",
    "\n",
    "#Lists and Tuples in Python are two classes of Python Data Structures. \n",
    "#The list structure is dynamic, and readily changed whereas the tuple structure is static and cannot be changed.\n",
    "#This means that the tuple is generally faster than the list. Lists are denoted by square brackets and tuples are denoted with parenthesis.\n",
    "\n",
    "#1-LIST\n",
    "#Lists are mutable\n",
    "#The list is better for performing operations, such as insertion and deletion.\n",
    "#Lists consume more memory\n",
    "#Lists have several built-in methods\n",
    "#[variable,variable]\n",
    "\n",
    "#TUPLE\n",
    "#Tuples are immutable\n",
    "#he implication of iterations is comparatively Faster\n",
    "#A Tuple data type is appropriate for accessing the elements\n",
    "#Tuple consumes less memory as compared to the list\n",
    "#(variable,variable)"
   ]
  },
  {
   "cell_type": "code",
   "execution_count": 47,
   "id": "dd24eed7-9264-4277-bea7-bc9be56de710",
   "metadata": {},
   "outputs": [],
   "source": [
    "l=[2,5,7,\"fijas\"] #>>list"
   ]
  },
  {
   "cell_type": "code",
   "execution_count": 48,
   "id": "c4a15cab-ae63-45f6-a03c-bf4715a9cf9b",
   "metadata": {},
   "outputs": [
    {
     "data": {
      "text/plain": [
       "[2, 5, 7, 'fijas']"
      ]
     },
     "execution_count": 48,
     "metadata": {},
     "output_type": "execute_result"
    }
   ],
   "source": [
    "s"
   ]
  },
  {
   "cell_type": "code",
   "execution_count": 52,
   "id": "615f6073-722a-4c95-b871-cd9dcbc19d21",
   "metadata": {},
   "outputs": [],
   "source": [
    "s[2]=\"ff\""
   ]
  },
  {
   "cell_type": "code",
   "execution_count": 53,
   "id": "912d24ec-10b4-42ff-b30b-560abbeaf5e5",
   "metadata": {},
   "outputs": [
    {
     "data": {
      "text/plain": [
       "[2, 5, 'ff', 'fijas']"
      ]
     },
     "execution_count": 53,
     "metadata": {},
     "output_type": "execute_result"
    }
   ],
   "source": [
    "s"
   ]
  },
  {
   "cell_type": "code",
   "execution_count": 49,
   "id": "c221deb5-9965-446e-bcd5-53e5ba3cd254",
   "metadata": {},
   "outputs": [],
   "source": [
    "t=(1,65,6,4,4,3,\"fayiz\")#>> tuples"
   ]
  },
  {
   "cell_type": "code",
   "execution_count": 50,
   "id": "f6f651e4-2a17-471c-a452-05ce2224be81",
   "metadata": {},
   "outputs": [
    {
     "data": {
      "text/plain": [
       "(1, 65, 6, 4, 4, 3, 'fayiz')"
      ]
     },
     "execution_count": 50,
     "metadata": {},
     "output_type": "execute_result"
    }
   ],
   "source": [
    "t"
   ]
  },
  {
   "cell_type": "code",
   "execution_count": 51,
   "id": "dd59c242-8d83-4020-8a6e-c63422249b89",
   "metadata": {},
   "outputs": [
    {
     "ename": "TypeError",
     "evalue": "'tuple' object does not support item assignment",
     "output_type": "error",
     "traceback": [
      "\u001b[0;31m---------------------------------------------------------------------------\u001b[0m",
      "\u001b[0;31mTypeError\u001b[0m                                 Traceback (most recent call last)",
      "Cell \u001b[0;32mIn[51], line 1\u001b[0m\n\u001b[0;32m----> 1\u001b[0m \u001b[43mt\u001b[49m\u001b[43m[\u001b[49m\u001b[38;5;241;43m2\u001b[39;49m\u001b[43m]\u001b[49m\u001b[38;5;241m=\u001b[39m\u001b[38;5;124m\"\u001b[39m\u001b[38;5;124mfff\u001b[39m\u001b[38;5;124m\"\u001b[39m\n",
      "\u001b[0;31mTypeError\u001b[0m: 'tuple' object does not support item assignment"
     ]
    }
   ],
   "source": [
    "t[2]=\"fff\""
   ]
  },
  {
   "cell_type": "code",
   "execution_count": 54,
   "id": "671f761a-b98b-47f1-940b-31ba8d6b3ee4",
   "metadata": {},
   "outputs": [
    {
     "data": {
      "text/plain": [
       "(65, 4)"
      ]
     },
     "execution_count": 54,
     "metadata": {},
     "output_type": "execute_result"
    }
   ],
   "source": [
    "t[1:4:2]"
   ]
  },
  {
   "cell_type": "code",
   "execution_count": 55,
   "id": "cc3e30ea-466b-4c94-b038-c3a2fed16e82",
   "metadata": {},
   "outputs": [
    {
     "name": "stdout",
     "output_type": "stream",
     "text": [
      "1 <class 'int'>\n",
      "65 <class 'int'>\n",
      "6 <class 'int'>\n",
      "4 <class 'int'>\n",
      "4 <class 'int'>\n",
      "3 <class 'int'>\n",
      "fayiz <class 'str'>\n"
     ]
    }
   ],
   "source": [
    "for i in t:\n",
    "    print(i,type(i))"
   ]
  },
  {
   "cell_type": "code",
   "execution_count": 56,
   "id": "924a23a6-b9e9-469b-b904-19cf0f7c85a8",
   "metadata": {},
   "outputs": [
    {
     "data": {
      "text/plain": [
       "2"
      ]
     },
     "execution_count": 56,
     "metadata": {},
     "output_type": "execute_result"
    }
   ],
   "source": [
    "t.count(4)"
   ]
  },
  {
   "cell_type": "code",
   "execution_count": null,
   "id": "b451147d-a233-49c7-b73f-a6e282f98cd9",
   "metadata": {},
   "outputs": [],
   "source": []
  },
  {
   "cell_type": "code",
   "execution_count": null,
   "id": "ab4d7425-7919-4ef5-bc1c-413e5eea2841",
   "metadata": {},
   "outputs": [],
   "source": []
  },
  {
   "cell_type": "code",
   "execution_count": 57,
   "id": "967650fd-d977-40c2-976b-f2784d6b46f9",
   "metadata": {},
   "outputs": [],
   "source": [
    "#5- Describe the key features of sets and provide examples of their use?\n",
    "\n",
    "\n",
    "#Sets are a well-defined collection of objects. Objects that a set contains are called the elements of the set.\n",
    "#sets are unordered and unique collection of elements\n",
    "#doesn't allow duplicate element,indexing will not work\n",
    "#sets are mutable data structure has astable hash values like tuples\n",
    "#We can also consider sets as collections of elements that have a common feature. For example, \n",
    "#the collection of even numbers is called the set of even numbers.\n",
    "#there are the different type of available like Singleton Set Empty Set,Finite Set,Infinite Set....etc\n",
    "#sets are object is not subscriptable"
   ]
  },
  {
   "cell_type": "code",
   "execution_count": 58,
   "id": "00dc4a02-c58d-44e1-b11f-135343c4774b",
   "metadata": {},
   "outputs": [],
   "source": [
    "s={1,2,3,4,1,2,3,4,\"ajay\",\"fijas\",\"ajay\"}"
   ]
  },
  {
   "cell_type": "code",
   "execution_count": 59,
   "id": "377decee-652b-482c-a0c7-4faa851e9cc7",
   "metadata": {},
   "outputs": [
    {
     "data": {
      "text/plain": [
       "{1, 2, 3, 4, 'ajay', 'fijas'}"
      ]
     },
     "execution_count": 59,
     "metadata": {},
     "output_type": "execute_result"
    }
   ],
   "source": [
    "s"
   ]
  },
  {
   "cell_type": "code",
   "execution_count": 61,
   "id": "25abd46d-3966-48cb-9e55-dac97029608e",
   "metadata": {},
   "outputs": [],
   "source": [
    "t=set(s)"
   ]
  },
  {
   "cell_type": "code",
   "execution_count": 62,
   "id": "f4132312-709c-4732-9fd3-74f675efddca",
   "metadata": {},
   "outputs": [
    {
     "data": {
      "text/plain": [
       "{1, 3, 4, 6, 65, 'fayiz'}"
      ]
     },
     "execution_count": 62,
     "metadata": {},
     "output_type": "execute_result"
    }
   ],
   "source": [
    "t"
   ]
  },
  {
   "cell_type": "code",
   "execution_count": 63,
   "id": "c2798fdf-4627-485f-8c4c-b699ca3cca86",
   "metadata": {},
   "outputs": [
    {
     "ename": "TypeError",
     "evalue": "'set' object is not subscriptable",
     "output_type": "error",
     "traceback": [
      "\u001b[0;31m---------------------------------------------------------------------------\u001b[0m",
      "\u001b[0;31mTypeError\u001b[0m                                 Traceback (most recent call last)",
      "Cell \u001b[0;32mIn[63], line 1\u001b[0m\n\u001b[0;32m----> 1\u001b[0m \u001b[43ms\u001b[49m\u001b[43m[\u001b[49m\u001b[38;5;241;43m1\u001b[39;49m\u001b[43m]\u001b[49m\n",
      "\u001b[0;31mTypeError\u001b[0m: 'set' object is not subscriptable"
     ]
    }
   ],
   "source": [
    "s[1]"
   ]
  },
  {
   "cell_type": "code",
   "execution_count": 64,
   "id": "bad3391e-c658-41b5-bd59-8016fb13ecdc",
   "metadata": {},
   "outputs": [
    {
     "ename": "TypeError",
     "evalue": "unhashable type: 'set'",
     "output_type": "error",
     "traceback": [
      "\u001b[0;31m---------------------------------------------------------------------------\u001b[0m",
      "\u001b[0;31mTypeError\u001b[0m                                 Traceback (most recent call last)",
      "Cell \u001b[0;32mIn[64], line 2\u001b[0m\n\u001b[1;32m      1\u001b[0m \u001b[38;5;66;03m#immutable data structure has astable hash values like tuples\u001b[39;00m\n\u001b[0;32m----> 2\u001b[0m s\u001b[38;5;241m=\u001b[39m{\u001b[38;5;241m11\u001b[39m,\u001b[38;5;241m2\u001b[39m,\u001b[38;5;241m3\u001b[39m,\u001b[38;5;241m1\u001b[39m,\u001b[38;5;241m2\u001b[39m,\u001b[38;5;241m3\u001b[39m,{\u001b[38;5;241m1\u001b[39m,\u001b[38;5;241m2\u001b[39m,}}\n",
      "\u001b[0;31mTypeError\u001b[0m: unhashable type: 'set'"
     ]
    }
   ],
   "source": [
    "#immutable data structure has astable hash values like tuples\n",
    "s={11,2,3,1,2,3,{1,2,}}"
   ]
  },
  {
   "cell_type": "code",
   "execution_count": 77,
   "id": "bed2cfd0-9c9f-4700-8a29-3bae96bfb659",
   "metadata": {},
   "outputs": [],
   "source": [
    "s={11,2,3,1,2,3,(1,2,)}"
   ]
  },
  {
   "cell_type": "code",
   "execution_count": 79,
   "id": "4034c58c-79e0-44f8-bec2-1940c4b78bb9",
   "metadata": {},
   "outputs": [
    {
     "data": {
      "text/plain": [
       "{(1, 2), 1, 11, 2, 3}"
      ]
     },
     "execution_count": 79,
     "metadata": {},
     "output_type": "execute_result"
    }
   ],
   "source": [
    "s #>>tuples can accessable in a sets"
   ]
  },
  {
   "cell_type": "code",
   "execution_count": 65,
   "id": "1bfe0c68-f19c-4cb2-bed4-4ae72f8c59a1",
   "metadata": {},
   "outputs": [
    {
     "name": "stdout",
     "output_type": "stream",
     "text": [
      "65\n",
      "1\n",
      "3\n",
      "4\n",
      "6\n",
      "fayiz\n"
     ]
    }
   ],
   "source": [
    "for i in s:\n",
    "    print(i)"
   ]
  },
  {
   "cell_type": "code",
   "execution_count": null,
   "id": "82228621-6eb1-4e49-84f2-aebbb8232e80",
   "metadata": {},
   "outputs": [],
   "source": [
    "s={11,2,3,1,2,3,{1,2,}}"
   ]
  },
  {
   "cell_type": "code",
   "execution_count": 66,
   "id": "a52df958-b5c0-4a2a-9120-e8a3befe5f3b",
   "metadata": {},
   "outputs": [],
   "source": [
    "#set is mutable \n",
    "s.add(100)"
   ]
  },
  {
   "cell_type": "code",
   "execution_count": 67,
   "id": "243f1f05-a5ca-4851-a36b-f8b655c467f9",
   "metadata": {},
   "outputs": [
    {
     "data": {
      "text/plain": [
       "{1, 100, 3, 4, 6, 65, 'fayiz'}"
      ]
     },
     "execution_count": 67,
     "metadata": {},
     "output_type": "execute_result"
    }
   ],
   "source": [
    "s"
   ]
  },
  {
   "cell_type": "code",
   "execution_count": 69,
   "id": "1f518d7d-f2db-46f6-8705-760e4b7eed41",
   "metadata": {},
   "outputs": [],
   "source": [
    "s.add(\"ajay\")"
   ]
  },
  {
   "cell_type": "code",
   "execution_count": null,
   "id": "7a15b036-4c4f-439d-b0b7-f2189b00b8e5",
   "metadata": {},
   "outputs": [],
   "source": [
    "s.update([\"ajay\"])"
   ]
  },
  {
   "cell_type": "code",
   "execution_count": 70,
   "id": "381ec144-1599-4ba0-9fa2-d8f0c8e75d2d",
   "metadata": {},
   "outputs": [
    {
     "data": {
      "text/plain": [
       "{1, 100, 3, 4, 6, 65, 'ajay', 'fayiz'}"
      ]
     },
     "execution_count": 70,
     "metadata": {},
     "output_type": "execute_result"
    }
   ],
   "source": [
    "s"
   ]
  },
  {
   "cell_type": "code",
   "execution_count": 71,
   "id": "0e6ad045-cda4-484a-9974-0133897d8b14",
   "metadata": {},
   "outputs": [],
   "source": [
    "s.update([\"ajayyyy\"])"
   ]
  },
  {
   "cell_type": "code",
   "execution_count": 72,
   "id": "91ea1204-d44a-4b20-af06-aa7aa1b3caca",
   "metadata": {},
   "outputs": [
    {
     "data": {
      "text/plain": [
       "{1, 100, 3, 4, 6, 65, 'ajay', 'ajayyyy', 'fayiz'}"
      ]
     },
     "execution_count": 72,
     "metadata": {},
     "output_type": "execute_result"
    }
   ],
   "source": [
    "s"
   ]
  },
  {
   "cell_type": "code",
   "execution_count": 73,
   "id": "3e766cfd-90af-4bd2-8808-3cb0d089f435",
   "metadata": {},
   "outputs": [
    {
     "data": {
      "text/plain": [
       "65"
      ]
     },
     "execution_count": 73,
     "metadata": {},
     "output_type": "execute_result"
    }
   ],
   "source": [
    "s.pop()#not complusory that it will add to ast of teh elemnent,and that it willl remove from the last it remove the variables from the randomely"
   ]
  },
  {
   "cell_type": "code",
   "execution_count": 74,
   "id": "dd046d5d-c607-409d-bc7a-1b4200f6e478",
   "metadata": {},
   "outputs": [],
   "source": [
    "s.clear()"
   ]
  },
  {
   "cell_type": "code",
   "execution_count": 75,
   "id": "5738f34e-83d4-4f9d-9e2b-558572c19472",
   "metadata": {},
   "outputs": [
    {
     "data": {
      "text/plain": [
       "set()"
      ]
     },
     "execution_count": 75,
     "metadata": {},
     "output_type": "execute_result"
    }
   ],
   "source": [
    "s"
   ]
  },
  {
   "cell_type": "code",
   "execution_count": 76,
   "id": "015c1e11-d82c-49c6-9b72-51b68ab7436b",
   "metadata": {},
   "outputs": [],
   "source": [
    "s={11,2,3,1,2,3,(1,2,)}"
   ]
  },
  {
   "cell_type": "code",
   "execution_count": 80,
   "id": "96a61d69-143f-4fea-b756-fee375a6549b",
   "metadata": {},
   "outputs": [],
   "source": [
    "del s"
   ]
  },
  {
   "cell_type": "code",
   "execution_count": 81,
   "id": "c931d06b-2a19-4063-a9a2-c7877d4573c4",
   "metadata": {},
   "outputs": [
    {
     "ename": "NameError",
     "evalue": "name 's' is not defined",
     "output_type": "error",
     "traceback": [
      "\u001b[0;31m---------------------------------------------------------------------------\u001b[0m",
      "\u001b[0;31mNameError\u001b[0m                                 Traceback (most recent call last)",
      "Cell \u001b[0;32mIn[81], line 1\u001b[0m\n\u001b[0;32m----> 1\u001b[0m \u001b[43ms\u001b[49m\n",
      "\u001b[0;31mNameError\u001b[0m: name 's' is not defined"
     ]
    }
   ],
   "source": [
    "s"
   ]
  },
  {
   "cell_type": "code",
   "execution_count": null,
   "id": "f04106bb-47d3-41af-a76a-213a5395dda5",
   "metadata": {},
   "outputs": [],
   "source": [
    "# set operations\n",
    "#union>>combines elements from two sets exclusng duplicate\n",
    "#intersection >> only common elements btw sets\n",
    "#difference>>return the elements that is present in first set and not in second\n",
    "#symmetric difference>> return elements that are present in either of sets but not in b"
   ]
  },
  {
   "cell_type": "code",
   "execution_count": 86,
   "id": "6048306c-019a-482b-9f8e-3c181dd6b203",
   "metadata": {},
   "outputs": [],
   "source": [
    "s1={1,2,3,4}\n",
    "s2={\"mul\",\"sub\",\"add\",1,2,3}"
   ]
  },
  {
   "cell_type": "code",
   "execution_count": 87,
   "id": "4c684f42-03aa-453a-8799-ad2cc6446c25",
   "metadata": {},
   "outputs": [
    {
     "data": {
      "text/plain": [
       "{1, 2, 3, 4, 'add', 'mul', 'sub'}"
      ]
     },
     "execution_count": 87,
     "metadata": {},
     "output_type": "execute_result"
    }
   ],
   "source": [
    "s1|s2 #>>union - combine the elements"
   ]
  },
  {
   "cell_type": "code",
   "execution_count": 89,
   "id": "faa80a82-6c96-44a1-b598-1ee9292cc6d6",
   "metadata": {},
   "outputs": [
    {
     "data": {
      "text/plain": [
       "{1, 2, 3}"
      ]
     },
     "execution_count": 89,
     "metadata": {},
     "output_type": "execute_result"
    }
   ],
   "source": [
    "s1&s2 #>>intersection"
   ]
  },
  {
   "cell_type": "code",
   "execution_count": 90,
   "id": "b865db47-de0e-4293-8a6b-7d77963293f3",
   "metadata": {},
   "outputs": [
    {
     "data": {
      "text/plain": [
       "{4}"
      ]
     },
     "execution_count": 90,
     "metadata": {},
     "output_type": "execute_result"
    }
   ],
   "source": [
    "s1-s2 #>>"
   ]
  },
  {
   "cell_type": "code",
   "execution_count": 91,
   "id": "68fa3472-1026-4a43-89f0-2b5cfbb96850",
   "metadata": {},
   "outputs": [
    {
     "data": {
      "text/plain": [
       "{4, 'add', 'mul', 'sub'}"
      ]
     },
     "execution_count": 91,
     "metadata": {},
     "output_type": "execute_result"
    }
   ],
   "source": [
    "s1^s2 #>#symmetric difference .. return all the elements other than common elements"
   ]
  },
  {
   "cell_type": "code",
   "execution_count": 92,
   "id": "03c907b5-da78-4def-9524-4102e09a9660",
   "metadata": {},
   "outputs": [],
   "source": [
    "#forz sets>>immutable version of set , cannot be added or removed any new elements"
   ]
  },
  {
   "cell_type": "code",
   "execution_count": 93,
   "id": "e2cfba79-eb0d-4651-8847-039968924845",
   "metadata": {},
   "outputs": [
    {
     "ename": "NameError",
     "evalue": "name 's' is not defined",
     "output_type": "error",
     "traceback": [
      "\u001b[0;31m---------------------------------------------------------------------------\u001b[0m",
      "\u001b[0;31mNameError\u001b[0m                                 Traceback (most recent call last)",
      "Cell \u001b[0;32mIn[93], line 1\u001b[0m\n\u001b[0;32m----> 1\u001b[0m \u001b[43ms\u001b[49m\n",
      "\u001b[0;31mNameError\u001b[0m: name 's' is not defined"
     ]
    }
   ],
   "source": []
  },
  {
   "cell_type": "code",
   "execution_count": 103,
   "id": "e3a47257-aa24-4e32-8045-a559d18c37d8",
   "metadata": {},
   "outputs": [],
   "source": [
    "mys=frozenset([11,2,3,1,2,3,1,2,])"
   ]
  },
  {
   "cell_type": "code",
   "execution_count": 104,
   "id": "6f1c6e1a-f85d-4d90-9827-6910733edd2a",
   "metadata": {},
   "outputs": [
    {
     "data": {
      "text/plain": [
       "frozenset({1, 2, 3, 11})"
      ]
     },
     "execution_count": 104,
     "metadata": {},
     "output_type": "execute_result"
    }
   ],
   "source": [
    "mys"
   ]
  },
  {
   "cell_type": "code",
   "execution_count": 105,
   "id": "4a899180-213e-4e5c-96cb-77caac7753b0",
   "metadata": {},
   "outputs": [
    {
     "ename": "AttributeError",
     "evalue": "'frozenset' object has no attribute 'add'",
     "output_type": "error",
     "traceback": [
      "\u001b[0;31m---------------------------------------------------------------------------\u001b[0m",
      "\u001b[0;31mAttributeError\u001b[0m                            Traceback (most recent call last)",
      "Cell \u001b[0;32mIn[105], line 1\u001b[0m\n\u001b[0;32m----> 1\u001b[0m \u001b[43mmys\u001b[49m\u001b[38;5;241;43m.\u001b[39;49m\u001b[43madd\u001b[49m(\u001b[38;5;241m100\u001b[39m)\n",
      "\u001b[0;31mAttributeError\u001b[0m: 'frozenset' object has no attribute 'add'"
     ]
    }
   ],
   "source": [
    "mys.add(100)"
   ]
  },
  {
   "cell_type": "code",
   "execution_count": 106,
   "id": "5b7315bd-aaee-4e16-b817-035e89c71ab4",
   "metadata": {},
   "outputs": [
    {
     "ename": "AttributeError",
     "evalue": "'frozenset' object has no attribute 'pop'",
     "output_type": "error",
     "traceback": [
      "\u001b[0;31m---------------------------------------------------------------------------\u001b[0m",
      "\u001b[0;31mAttributeError\u001b[0m                            Traceback (most recent call last)",
      "Cell \u001b[0;32mIn[106], line 1\u001b[0m\n\u001b[0;32m----> 1\u001b[0m \u001b[43mmys\u001b[49m\u001b[38;5;241;43m.\u001b[39;49m\u001b[43mpop\u001b[49m()\n",
      "\u001b[0;31mAttributeError\u001b[0m: 'frozenset' object has no attribute 'pop'"
     ]
    }
   ],
   "source": [
    "mys.pop()"
   ]
  },
  {
   "cell_type": "code",
   "execution_count": null,
   "id": "8c7acfed-e401-4999-9688-ec4ce4d8ad2b",
   "metadata": {},
   "outputs": [],
   "source": []
  },
  {
   "cell_type": "code",
   "execution_count": null,
   "id": "943d1a83-1ecd-4873-a6db-877533954fa2",
   "metadata": {},
   "outputs": [],
   "source": []
  },
  {
   "cell_type": "code",
   "execution_count": 1,
   "id": "40505e9a-0ca0-469d-b107-427a15c290b1",
   "metadata": {},
   "outputs": [],
   "source": [
    "#Disccss the use cases of tuples and sets in Python programming ?\n",
    "\n",
    "\n",
    "#when you don't want to modify the data which you have applied in the programing you can use tuples type data structre \n",
    "#tuples are immutable in the case\n",
    "#if you take a list employers name for company and uyou din't want to chance any further changers to the list\n",
    "employers=(\"rajeesh\",\"fijas\",\"abu\",\"sibu\",\"sureesh\",\"chris\")"
   ]
  },
  {
   "cell_type": "code",
   "execution_count": 3,
   "id": "e48e1638-30cb-4031-bc9e-4c180ceef266",
   "metadata": {},
   "outputs": [
    {
     "data": {
      "text/plain": [
       "('rajeesh', 'fijas', 'abu', 'sibu', 'sureesh', 'chris')"
      ]
     },
     "execution_count": 3,
     "metadata": {},
     "output_type": "execute_result"
    }
   ],
   "source": [
    "employers"
   ]
  },
  {
   "cell_type": "code",
   "execution_count": 5,
   "id": "b95d0764-eb24-4519-9702-9d480293107e",
   "metadata": {},
   "outputs": [
    {
     "ename": "TypeError",
     "evalue": "'tuple' object does not support item assignment",
     "output_type": "error",
     "traceback": [
      "\u001b[0;31m---------------------------------------------------------------------------\u001b[0m",
      "\u001b[0;31mTypeError\u001b[0m                                 Traceback (most recent call last)",
      "Cell \u001b[0;32mIn[5], line 1\u001b[0m\n\u001b[0;32m----> 1\u001b[0m \u001b[43memployers\u001b[49m\u001b[43m[\u001b[49m\u001b[38;5;241;43m1\u001b[39;49m\u001b[43m]\u001b[49m\u001b[38;5;241m=\u001b[39m\u001b[38;5;124m\"\u001b[39m\u001b[38;5;124msreesh\u001b[39m\u001b[38;5;124m\"\u001b[39m\n",
      "\u001b[0;31mTypeError\u001b[0m: 'tuple' object does not support item assignment"
     ]
    }
   ],
   "source": [
    "employers[1]=\"sreesh\""
   ]
  },
  {
   "cell_type": "code",
   "execution_count": 6,
   "id": "95d151b1-e0c3-4616-bcb3-baea47106a0a",
   "metadata": {},
   "outputs": [
    {
     "name": "stdout",
     "output_type": "stream",
     "text": [
      "rajeesh <class 'str'>\n",
      "fijas <class 'str'>\n",
      "abu <class 'str'>\n",
      "sibu <class 'str'>\n",
      "sureesh <class 'str'>\n",
      "chris <class 'str'>\n"
     ]
    }
   ],
   "source": [
    "for i in employers:\n",
    "    print(i,type(i))"
   ]
  },
  {
   "cell_type": "code",
   "execution_count": 7,
   "id": "78bc0e8c-70dc-44ac-9a6b-53c96786c5fc",
   "metadata": {},
   "outputs": [],
   "source": [
    "#if use want to  changes the variables or names in the list of employers by adding and remove over the periods now you can use the sets as the method to acess the list or make the employers list\n",
    "employers1={\"rajeesh\",\"fijas\",\"abu\",\"sibu\",\"sureesh\",\"chris\"}"
   ]
  },
  {
   "cell_type": "code",
   "execution_count": 8,
   "id": "6cf9b40b-185e-455e-b047-cdb95e86d830",
   "metadata": {},
   "outputs": [
    {
     "data": {
      "text/plain": [
       "{'abu', 'chris', 'fijas', 'rajeesh', 'sibu', 'sureesh'}"
      ]
     },
     "execution_count": 8,
     "metadata": {},
     "output_type": "execute_result"
    }
   ],
   "source": [
    "employers1"
   ]
  },
  {
   "cell_type": "code",
   "execution_count": 9,
   "id": "3c01f09b-37f5-4096-8876-247312c89675",
   "metadata": {},
   "outputs": [],
   "source": [
    "#doesn't allow duplicate element,indexing will not work so it would help you get the avoid from mistakes of the double entry of the address or name "
   ]
  },
  {
   "cell_type": "code",
   "execution_count": 11,
   "id": "aa15bb86-89b4-4ad4-84f7-38fa08878360",
   "metadata": {},
   "outputs": [],
   "source": [
    "employers1.add(\"modi\")"
   ]
  },
  {
   "cell_type": "code",
   "execution_count": 12,
   "id": "01b07a7b-b6b4-4bde-ab58-3cc87a5a892d",
   "metadata": {},
   "outputs": [
    {
     "data": {
      "text/plain": [
       "{'abu', 'chris', 'fijas', 'modi', 'rajeesh', 'sibu', 'sureesh'}"
      ]
     },
     "execution_count": 12,
     "metadata": {},
     "output_type": "execute_result"
    }
   ],
   "source": [
    "employers1"
   ]
  },
  {
   "cell_type": "code",
   "execution_count": 20,
   "id": "3b0624d0-d6ec-4cde-ae4c-bfa7fa93e924",
   "metadata": {},
   "outputs": [],
   "source": [
    "employers1.update([\"sooman\"])"
   ]
  },
  {
   "cell_type": "code",
   "execution_count": 22,
   "id": "2814aa2a-b2e5-40c9-874f-f7b5df03c297",
   "metadata": {},
   "outputs": [
    {
     "data": {
      "text/plain": [
       "{'[',\n",
       " ']',\n",
       " 'a',\n",
       " 'abu',\n",
       " 'chris',\n",
       " 'fijas',\n",
       " 'm',\n",
       " 'modi',\n",
       " 'n',\n",
       " 'o',\n",
       " 'rajeesh',\n",
       " 's',\n",
       " 'sibu',\n",
       " 'sooman',\n",
       " 'sureesh'}"
      ]
     },
     "execution_count": 22,
     "metadata": {},
     "output_type": "execute_result"
    }
   ],
   "source": [
    "employers1"
   ]
  },
  {
   "cell_type": "code",
   "execution_count": 24,
   "id": "da57056b-101a-46f6-9952-e8c462403bb5",
   "metadata": {},
   "outputs": [],
   "source": [
    "#7- Describe how to add, modify, and delete items in a dictionary with examples?\n",
    "\n",
    "\n",
    "##distionary is data structure that stores data as key value pair \n",
    "#kers are immutable and unique\n",
    "#note: disctionary are unordered , but from python 3.7 version , disctionary retain the order of insertion\n",
    "#Python Dictionary Syntax\n",
    "#dict_var = {key1 : value1, key2 : value2, …..}\n",
    "##>> you can access the variables in the dictionary method but th using the key only\n",
    "#rule of the difine key\n",
    "d={1:\"abc\"}# integrals as the key\n",
    "d={1.2:\"abc\"} #floating words as the key word\n",
    "d={True:\"any value\"} #boolian as the key word\n",
    "d={#:1213} #you can not hAVE# as the key word\n",
    "#distinary has been sed for real life case as the often with make the details books of the persons with the specifiction of address"
   ]
  },
  {
   "cell_type": "code",
   "execution_count": 25,
   "id": "496d56de-ffb1-4ac4-a95b-be98e579517e",
   "metadata": {},
   "outputs": [],
   "source": [
    "d={\"name\":\"fijas\",\"num\":7994918646,\"email\":\"fijadmuhammed@gamil.com\"}"
   ]
  },
  {
   "cell_type": "code",
   "execution_count": 26,
   "id": "7e3c0a57-df1f-4f9d-b2ab-3ec33c30de34",
   "metadata": {},
   "outputs": [
    {
     "data": {
      "text/plain": [
       "{'name': 'fijas', 'num': 7994918646, 'email': 'fijadmuhammed@gamil.com'}"
      ]
     },
     "execution_count": 26,
     "metadata": {},
     "output_type": "execute_result"
    }
   ],
   "source": [
    "d"
   ]
  },
  {
   "cell_type": "code",
   "execution_count": 29,
   "id": "0e878e97-fcdc-45e1-97e7-ab190bcb14d4",
   "metadata": {},
   "outputs": [
    {
     "data": {
      "text/plain": [
       "'fijas'"
      ]
     },
     "execution_count": 29,
     "metadata": {},
     "output_type": "execute_result"
    }
   ],
   "source": [
    "d[\"name\"]"
   ]
  },
  {
   "cell_type": "code",
   "execution_count": 30,
   "id": "b7a8f94d-828b-4e71-adb0-ef866e756793",
   "metadata": {},
   "outputs": [
    {
     "data": {
      "text/plain": [
       "'fijadmuhammed@gamil.com'"
      ]
     },
     "execution_count": 30,
     "metadata": {},
     "output_type": "execute_result"
    }
   ],
   "source": [
    "d[\"email\"]"
   ]
  },
  {
   "cell_type": "code",
   "execution_count": 31,
   "id": "113da42f-83dc-427c-a3dc-d41ca9917b02",
   "metadata": {},
   "outputs": [
    {
     "data": {
      "text/plain": [
       "{'name': 'fijas', 'num': 7994918646, 'email': 'fijadmuhammed@gamil.com'}"
      ]
     },
     "execution_count": 31,
     "metadata": {},
     "output_type": "execute_result"
    }
   ],
   "source": [
    "#if you want to modify the dictionary deatils\n",
    "d"
   ]
  },
  {
   "cell_type": "code",
   "execution_count": 32,
   "id": "de6f5f62-e698-42ab-a9fd-bbbb8a767987",
   "metadata": {},
   "outputs": [],
   "source": [
    "d[\"name\"]=\"sibu\""
   ]
  },
  {
   "cell_type": "code",
   "execution_count": 33,
   "id": "1a5f190d-bc66-4fd6-ad4b-6e168dcd665a",
   "metadata": {},
   "outputs": [
    {
     "data": {
      "text/plain": [
       "{'name': 'sibu', 'num': 7994918646, 'email': 'fijadmuhammed@gamil.com'}"
      ]
     },
     "execution_count": 33,
     "metadata": {},
     "output_type": "execute_result"
    }
   ],
   "source": [
    "d"
   ]
  },
  {
   "cell_type": "code",
   "execution_count": 34,
   "id": "8658e355-7dc4-4c63-974c-8a91d88f1577",
   "metadata": {},
   "outputs": [],
   "source": [
    "d[\"email\"]=\"sibu@gmail.com\""
   ]
  },
  {
   "cell_type": "code",
   "execution_count": 35,
   "id": "354b8a35-0962-49ca-bfaa-d1b0c096f532",
   "metadata": {},
   "outputs": [
    {
     "data": {
      "text/plain": [
       "{'name': 'sibu', 'num': 7994918646, 'email': 'sibu@gmail.com'}"
      ]
     },
     "execution_count": 35,
     "metadata": {},
     "output_type": "execute_result"
    }
   ],
   "source": [
    "d"
   ]
  },
  {
   "cell_type": "code",
   "execution_count": 36,
   "id": "d708dd8d-5ea8-49fa-97d6-49f3e39d6148",
   "metadata": {},
   "outputs": [],
   "source": [
    "#if you want to add other details also with this list\n",
    "d[\"address\"]=\"kerala\""
   ]
  },
  {
   "cell_type": "code",
   "execution_count": 37,
   "id": "8db21204-02f6-4a5d-96e2-a192b4fc2124",
   "metadata": {},
   "outputs": [
    {
     "data": {
      "text/plain": [
       "{'name': 'sibu',\n",
       " 'num': 7994918646,\n",
       " 'email': 'sibu@gmail.com',\n",
       " 'address': 'kerala'}"
      ]
     },
     "execution_count": 37,
     "metadata": {},
     "output_type": "execute_result"
    }
   ],
   "source": [
    "d"
   ]
  },
  {
   "cell_type": "code",
   "execution_count": 38,
   "id": "fc24aacf-2939-4d11-872f-a46bbe4ab3aa",
   "metadata": {},
   "outputs": [],
   "source": [
    "#now if you want to delete the item from the dictionary\n",
    "del d[\"address\"]"
   ]
  },
  {
   "cell_type": "code",
   "execution_count": 39,
   "id": "d911d00c-b17b-4ed0-83d3-a1650e9ccac8",
   "metadata": {},
   "outputs": [
    {
     "data": {
      "text/plain": [
       "{'name': 'sibu', 'num': 7994918646, 'email': 'sibu@gmail.com'}"
      ]
     },
     "execution_count": 39,
     "metadata": {},
     "output_type": "execute_result"
    }
   ],
   "source": [
    "d"
   ]
  },
  {
   "cell_type": "code",
   "execution_count": null,
   "id": "16229d16-33ef-4d22-b8da-b08f3e694757",
   "metadata": {},
   "outputs": [],
   "source": []
  },
  {
   "cell_type": "code",
   "execution_count": null,
   "id": "00b71ea8-81fd-41db-ab41-2afbce2686a4",
   "metadata": {},
   "outputs": [],
   "source": []
  },
  {
   "cell_type": "code",
   "execution_count": 40,
   "id": "5d749efd-2fe8-4e9d-a75f-9f3ed00a779f",
   "metadata": {},
   "outputs": [],
   "source": [
    "#7- Discuss the importance of dictionary keys being immutable and provide examples\n",
    "\n",
    "\n",
    "#In a dictionary, the key part must be immutable. This means that once a key is created, it cannot be changed.\n",
    "#Immutability is essential for keys because it ensures that the dictionary can efficiently look up values based on their keys.\n",
    "#If a key was mutable, its hash value could change, making it impossible to find the associated value in the dictionary. For example,\n",
    "#in the following dictionary: d = {\"name\": \"fijas\", \"age\": 20} \"Name\" and \"age\" are the keys (immutable), and \"fijas\" and \"20\" are the values (mutable)."
   ]
  },
  {
   "cell_type": "code",
   "execution_count": 41,
   "id": "6ee33cb9-f893-478e-ad12-c22d2074ab8d",
   "metadata": {},
   "outputs": [],
   "source": [
    "#in current format fo the dictionary would make possible to the change of the keys in the list"
   ]
  },
  {
   "cell_type": "code",
   "execution_count": 42,
   "id": "b1c73414-715c-4b86-99b3-879cb6c9a552",
   "metadata": {},
   "outputs": [
    {
     "data": {
      "text/plain": [
       "{'name': 'sibu', 'num': 7994918646, 'email': 'sibu@gmail.com'}"
      ]
     },
     "execution_count": 42,
     "metadata": {},
     "output_type": "execute_result"
    }
   ],
   "source": [
    "d"
   ]
  },
  {
   "cell_type": "code",
   "execution_count": 43,
   "id": "8141d3ea-1290-4622-809f-d2725fdb7233",
   "metadata": {},
   "outputs": [],
   "source": [
    "#her ethe name ,num,email are the keys amd sibu,7994918646,sibu@gmsil.com are the values\n",
    "#as of now it is possible to changes teh keys in dictionary so it would further update pr changes the details in the dictinary so ,\n",
    "#it violate the credibility of the details can and any body the change the keys would mislead from getting actual details "
   ]
  },
  {
   "cell_type": "code",
   "execution_count": 45,
   "id": "d289a7fc-ae6f-44be-9ad2-5cffa0edc286",
   "metadata": {},
   "outputs": [],
   "source": [
    "d[\"name\"]=\"sugu\""
   ]
  },
  {
   "cell_type": "code",
   "execution_count": 46,
   "id": "75613b16-74cb-4c8b-bf6c-9ae071acc6ba",
   "metadata": {},
   "outputs": [
    {
     "data": {
      "text/plain": [
       "{'name': 'sugu', 'num': 7994918646, 'email': 'sibu@gmail.com'}"
      ]
     },
     "execution_count": 46,
     "metadata": {},
     "output_type": "execute_result"
    }
   ],
   "source": [
    "d"
   ]
  },
  {
   "cell_type": "code",
   "execution_count": null,
   "id": "04d1fad0-2416-4269-9cd0-7f689df6f725",
   "metadata": {},
   "outputs": [],
   "source": [
    "#so it is important to make keys and values are immutable as the old version of the dictionary for sake of the credibility of the data adn infromation\n"
   ]
  }
 ],
 "metadata": {
  "kernelspec": {
   "display_name": "Python 3 (ipykernel)",
   "language": "python",
   "name": "python3"
  },
  "language_info": {
   "codemirror_mode": {
    "name": "ipython",
    "version": 3
   },
   "file_extension": ".py",
   "mimetype": "text/x-python",
   "name": "python",
   "nbconvert_exporter": "python",
   "pygments_lexer": "ipython3",
   "version": "3.10.8"
  }
 },
 "nbformat": 4,
 "nbformat_minor": 5
}
